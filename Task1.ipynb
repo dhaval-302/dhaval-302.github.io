{
 "cells": [
  {
   "cell_type": "markdown",
   "id": "bb65f0f0",
   "metadata": {},
   "source": [
    "# '''1.Given the number as input from the user, you need to find the factors of that number.\n",
    "The number should be fetched from the user.\n",
    "\n",
    "For e.g if the user gives the input as 30. Then the output should be \n",
    "[1,2,3,5,6,10,15,30]'''\n"
   ]
  },
  {
   "cell_type": "code",
   "execution_count": 6,
   "id": "33b62b11",
   "metadata": {},
   "outputs": [
    {
     "name": "stdout",
     "output_type": "stream",
     "text": [
      "Enrer the number for finding factors:30\n",
      "[1, 2, 3, 5, 6, 10, 15, 30]\n"
     ]
    }
   ],
   "source": [
    "#function defination\n",
    "def get_factors(inp):\n",
    "    \n",
    "    factor_list = []\n",
    "    \n",
    "    for i in range(1,inp+1):\n",
    "        if inp % i == 0:\n",
    "            factor_list.append(i)\n",
    "            \n",
    "    return factor_list\n",
    "\n",
    "\n",
    "\n",
    "#fetch input \n",
    "input_str = int(input(\"Enrer the number for finding factors:\"))\n",
    "\n",
    "#call the function\n",
    "factors = get_factors(input_str)\n",
    "\n",
    "#print result\n",
    "print(factors)\n"
   ]
  }
 ],
 "metadata": {
  "kernelspec": {
   "display_name": "Python 3 (ipykernel)",
   "language": "python",
   "name": "python3"
  },
  "language_info": {
   "codemirror_mode": {
    "name": "ipython",
    "version": 3
   },
   "file_extension": ".py",
   "mimetype": "text/x-python",
   "name": "python",
   "nbconvert_exporter": "python",
   "pygments_lexer": "ipython3",
   "version": "3.8.10"
  }
 },
 "nbformat": 4,
 "nbformat_minor": 5
}
